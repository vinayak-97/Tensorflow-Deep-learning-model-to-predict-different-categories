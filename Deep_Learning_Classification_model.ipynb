{
  "nbformat": 4,
  "nbformat_minor": 0,
  "metadata": {
    "colab": {
      "name": "Deep Learning Classification model.ipynb",
      "provenance": [],
      "collapsed_sections": []
    },
    "kernelspec": {
      "name": "python3",
      "display_name": "Python 3"
    }
  },
  "cells": [
    {
      "cell_type": "markdown",
      "metadata": {
        "id": "t5QQ1Bx4nrIr"
      },
      "source": [
        "# Vinayak Bhosale Assignment Submission"
      ]
    },
    {
      "cell_type": "markdown",
      "metadata": {
        "id": "E0xyhFpVnzSQ"
      },
      "source": [
        "# The commented code i ran on my pc but tensorflow started having issues so i had to switch to google colaboratory"
      ]
    },
    {
      "cell_type": "markdown",
      "metadata": {
        "id": "NofXEEM4oK4t"
      },
      "source": [
        "# And i have only considered these features categories = [\"banana\",\"duck\",\"fish\",\"jelly fish\",\"lizard\",\"lobster\",\"scorpion\", \"stop watch\"]\r\n",
        "\r\n",
        "# Because my pc has only 8gb ram and its going to take too much training time so i have reduced the features"
      ]
    },
    {
      "cell_type": "markdown",
      "metadata": {
        "id": "6Cf9vwiSo4Y2"
      },
      "source": [
        "# importing the necessary libraries"
      ]
    },
    {
      "cell_type": "code",
      "metadata": {
        "id": "i_I1IqdrIHdN"
      },
      "source": [
        "# import numpy as np\r\n",
        "# import matplotlib.pyplot as plt\r\n",
        "# import os\r\n",
        "# import cv2\r\n",
        "# %matplotlib inline\r\n",
        "\r\n",
        "# datadir = \"C:/Users/Pinky/Desktop/dataset\"\r\n",
        "# categories = [\"banana\",\"duck\",\"fish\",\"jelly fish\",\"lizard\",\"lobster\",\"scorpion\",\r\n",
        "#              \"stop watch\"]\r\n",
        "\r\n",
        "# for category in categories:\r\n",
        "#     path = os.path.join(datadir,category)\r\n",
        "#     for img in os.listdir(path):\r\n",
        "#         img_array = cv2.imread(os.path.join(path,img))\r\n",
        "#         plt.imshow(img_array)\r\n",
        "#         plt.show()\r\n",
        "#         break\r\n",
        "#     break"
      ],
      "execution_count": 1,
      "outputs": []
    },
    {
      "cell_type": "markdown",
      "metadata": {
        "id": "L2G2Ca9io9lP"
      },
      "source": [
        "# creating the training data set"
      ]
    },
    {
      "cell_type": "code",
      "metadata": {
        "id": "mtt_HToeILxd"
      },
      "source": [
        "# training_data = []\r\n",
        "\r\n",
        "# def create_training_data():\r\n",
        "#     for category in categories:\r\n",
        "#         path = os.path.join(datadir,category)\r\n",
        "#         class_num = categories.index(category)\r\n",
        "#         for img in os.listdir(path):\r\n",
        "#             try:\r\n",
        "#                 img_array = cv2.imread(os.path.join(path,img))\r\n",
        "#                 training_data.append([img_array,class_num])\r\n",
        "#             except Exception as e:\r\n",
        "#                 pass\r\n",
        "            \r\n",
        "\r\n",
        "# create_training_data()"
      ],
      "execution_count": 2,
      "outputs": []
    },
    {
      "cell_type": "markdown",
      "metadata": {
        "id": "sUkJqyX9pCRF"
      },
      "source": [
        "# shuffling the data"
      ]
    },
    {
      "cell_type": "code",
      "metadata": {
        "id": "1Vqhh5e9IQDM"
      },
      "source": [
        "# import random\r\n",
        "\r\n",
        "# random.shuffle(training_data)"
      ],
      "execution_count": 3,
      "outputs": []
    },
    {
      "cell_type": "code",
      "metadata": {
        "id": "IpScXLv5IVTb"
      },
      "source": [
        "# X = []\r\n",
        "# y = []\r\n",
        "\r\n",
        "# for features,label in training_data:\r\n",
        "#     X.append(features)\r\n",
        "#     y.append(label)\r\n",
        "    \r\n",
        "# X = np.array(X).reshape(-1,64,64,3)"
      ],
      "execution_count": 4,
      "outputs": []
    },
    {
      "cell_type": "code",
      "metadata": {
        "id": "Keytiwu0Ib4Y"
      },
      "source": [
        "# import pickle\r\n",
        "\r\n",
        "# pickle_out = open(\"X.pickle\",\"wb\")\r\n",
        "# pickle.dump(X,pickle_out)\r\n",
        "# pickle_out.close()\r\n",
        "\r\n",
        "# pickle_out = open(\"y.pickle\",\"wb\")\r\n",
        "# pickle.dump(y,pickle_out)\r\n",
        "# pickle_out.close()"
      ],
      "execution_count": 5,
      "outputs": []
    },
    {
      "cell_type": "code",
      "metadata": {
        "id": "kTE_B80YLx0e"
      },
      "source": [
        "import numpy as np\r\n",
        "import matplotlib.pyplot as plt\r\n",
        "import cv2\r\n",
        "%matplotlib inline"
      ],
      "execution_count": 8,
      "outputs": []
    },
    {
      "cell_type": "markdown",
      "metadata": {
        "id": "1-xIsggkpchy"
      },
      "source": [
        "# considering only below features because of ram issue"
      ]
    },
    {
      "cell_type": "code",
      "metadata": {
        "id": "iUb35BmsMPIv"
      },
      "source": [
        "categories = [\"banana\",\"duck\",\"fish\",\"jelly fish\",\"lizard\",\"lobster\",\"scorpion\",\r\n",
        "            \"stop watch\"]"
      ],
      "execution_count": 10,
      "outputs": []
    },
    {
      "cell_type": "markdown",
      "metadata": {
        "id": "WECQZpE-poqa"
      },
      "source": [
        "# loading the data from the pickle which i had saved earlier on my pc and imported it into google colab"
      ]
    },
    {
      "cell_type": "code",
      "metadata": {
        "id": "kOXYRpFeJuBT"
      },
      "source": [
        "import pickle\r\n",
        "\r\n",
        "pickle_in = open(\"/content/X.pickle\",\"rb\")\r\n",
        "X = pickle.load(pickle_in)\r\n",
        "pickle_in_y = open(\"/content/y.pickle\",\"rb\")\r\n",
        "y = pickle.load(pickle_in_y)"
      ],
      "execution_count": 46,
      "outputs": []
    },
    {
      "cell_type": "code",
      "metadata": {
        "colab": {
          "base_uri": "https://localhost:8080/"
        },
        "id": "tXYpY3HsLnoI",
        "outputId": "1ad271ac-1afb-450b-9b59-0ec6add76db7"
      },
      "source": [
        "X[0]"
      ],
      "execution_count": 47,
      "outputs": [
        {
          "output_type": "execute_result",
          "data": {
            "text/plain": [
              "array([[[ 33,  64,  33],\n",
              "        [ 35,  80,  47],\n",
              "        [ 15,  85,  49],\n",
              "        ...,\n",
              "        [ 27, 124,  92],\n",
              "        [ 49, 145, 115],\n",
              "        [ 33, 129,  99]],\n",
              "\n",
              "       [[ 25,  56,  25],\n",
              "        [ 16,  59,  26],\n",
              "        [  0,  54,  19],\n",
              "        ...,\n",
              "        [ 12, 113,  81],\n",
              "        [ 35, 135, 105],\n",
              "        [ 24, 124,  94]],\n",
              "\n",
              "       [[ 20,  51,  20],\n",
              "        [ 17,  58,  26],\n",
              "        [  0,  60,  24],\n",
              "        ...,\n",
              "        [  1, 113,  79],\n",
              "        [ 22, 134, 100],\n",
              "        [ 21, 133,  99]],\n",
              "\n",
              "       ...,\n",
              "\n",
              "       [[154, 178, 178],\n",
              "        [157, 178, 179],\n",
              "        [166, 181, 183],\n",
              "        ...,\n",
              "        [ 53, 132,  89],\n",
              "        [ 48, 128,  81],\n",
              "        [ 24, 105,  56]],\n",
              "\n",
              "       [[159, 183, 183],\n",
              "        [160, 181, 182],\n",
              "        [168, 183, 185],\n",
              "        ...,\n",
              "        [ 60, 144,  90],\n",
              "        [ 50, 134,  75],\n",
              "        [ 53, 138,  76]],\n",
              "\n",
              "       [[165, 189, 189],\n",
              "        [163, 184, 185],\n",
              "        [169, 184, 186],\n",
              "        ...,\n",
              "        [ 62, 148,  88],\n",
              "        [ 22, 109,  43],\n",
              "        [ 33, 120,  52]]], dtype=uint8)"
            ]
          },
          "metadata": {
            "tags": []
          },
          "execution_count": 47
        }
      ]
    },
    {
      "cell_type": "code",
      "metadata": {
        "colab": {
          "base_uri": "https://localhost:8080/",
          "height": 285
        },
        "id": "aMwgoBOvLrZn",
        "outputId": "0a4ff015-4844-4ac1-de58-e4ea9d600ebf"
      },
      "source": [
        "plt.imshow(X[0])"
      ],
      "execution_count": 48,
      "outputs": [
        {
          "output_type": "execute_result",
          "data": {
            "text/plain": [
              "<matplotlib.image.AxesImage at 0x7f70945e9be0>"
            ]
          },
          "metadata": {
            "tags": []
          },
          "execution_count": 48
        },
        {
          "output_type": "display_data",
          "data": {
            "image/png": "[encoded data removed]",
            "text/plain": [
              "<Figure size 432x288 with 1 Axes>"
            ]
          },
          "metadata": {
            "tags": [],
            "needs_background": "light"
          }
        }
      ]
    },
    {
      "cell_type": "code",
      "metadata": {
        "colab": {
          "base_uri": "https://localhost:8080/",
          "height": 35
        },
        "id": "d2HToXqvMSzI",
        "outputId": "0c994e3d-de93-4015-fc0d-7447eadcd16c"
      },
      "source": [
        "categories[y[0]]"
      ],
      "execution_count": 49,
      "outputs": [
        {
          "output_type": "execute_result",
          "data": {
            "application/vnd.google.colaboratory.intrinsic+json": {
              "type": "string"
            },
            "text/plain": [
              "'duck'"
            ]
          },
          "metadata": {
            "tags": []
          },
          "execution_count": 49
        }
      ]
    },
    {
      "cell_type": "markdown",
      "metadata": {
        "id": "m8RoPA4Kpzrb"
      },
      "source": [
        "# Normalizing the data"
      ]
    },
    {
      "cell_type": "code",
      "metadata": {
        "id": "6AMkH1_IODys"
      },
      "source": [
        "X = X/255.0"
      ],
      "execution_count": 50,
      "outputs": []
    },
    {
      "cell_type": "code",
      "metadata": {
        "colab": {
          "base_uri": "https://localhost:8080/"
        },
        "id": "wDAambcrQcC0",
        "outputId": "f1aa3716-5855-4e7c-a910-48b5042de662"
      },
      "source": [
        "X.shape"
      ],
      "execution_count": 51,
      "outputs": [
        {
          "output_type": "execute_result",
          "data": {
            "text/plain": [
              "(3841, 64, 64, 3)"
            ]
          },
          "metadata": {
            "tags": []
          },
          "execution_count": 51
        }
      ]
    },
    {
      "cell_type": "markdown",
      "metadata": {
        "id": "Q0lW3sakp5So"
      },
      "source": [
        "# converting y to categorical"
      ]
    },
    {
      "cell_type": "code",
      "metadata": {
        "colab": {
          "base_uri": "https://localhost:8080/"
        },
        "id": "jdfNcT3qOONw",
        "outputId": "21dd6947-a6ca-49b0-d861-e02e1159b0c3"
      },
      "source": [
        "from keras.utils import to_categorical\r\n",
        "y_one_hot = to_categorical(y)\r\n",
        "y_one_hot[:5]"
      ],
      "execution_count": 53,
      "outputs": [
        {
          "output_type": "execute_result",
          "data": {
            "text/plain": [
              "array([[0., 1., 0., 0., 0., 0., 0., 0.],\n",
              "       [0., 0., 0., 0., 0., 0., 1., 0.],\n",
              "       [0., 0., 0., 0., 0., 0., 0., 1.],\n",
              "       [0., 0., 0., 0., 0., 0., 1., 0.],\n",
              "       [0., 0., 1., 0., 0., 0., 0., 0.]], dtype=float32)"
            ]
          },
          "metadata": {
            "tags": []
          },
          "execution_count": 53
        }
      ]
    },
    {
      "cell_type": "markdown",
      "metadata": {
        "id": "jNQ1YehnqDHt"
      },
      "source": [
        "# importing necessary libraries and building the model"
      ]
    },
    {
      "cell_type": "code",
      "metadata": {
        "id": "PpDaEvNzLepr"
      },
      "source": [
        "#Building the model\r\n",
        "\r\n",
        "import tensorflow as tf\r\n",
        "from tensorflow import keras\r\n",
        "from tensorflow.keras.models import Sequential\r\n",
        "from tensorflow.keras.layers import Dense\r\n",
        "from tensorflow.keras.layers import Conv2D\r\n",
        "from tensorflow.keras.layers import Dropout, AveragePooling2D\r\n",
        "from tensorflow.keras.layers import Flatten, MaxPooling2D"
      ],
      "execution_count": 54,
      "outputs": []
    },
    {
      "cell_type": "code",
      "metadata": {
        "id": "9QcLhlETMdln"
      },
      "source": [
        "model = Sequential()\r\n",
        "\r\n",
        "model.add(Conv2D(filters = 32,kernel_size=(3,3),activation=\"relu\",input_shape =X.shape[1:] ))\r\n",
        "model.add(Conv2D(filters = 32,kernel_size=(3,3),activation=\"relu\"))\r\n",
        "model.add(MaxPooling2D(2,2))\r\n",
        "model.add(Dropout(0.15))\r\n",
        "\r\n",
        "model.add(Conv2D(filters = 64,kernel_size=(3,3),activation=\"relu\"))\r\n",
        "model.add(Conv2D(filters = 64,kernel_size=(3,3),activation=\"relu\"))\r\n",
        "model.add(MaxPooling2D(2,2))\r\n",
        "model.add(Dropout(0.15))\r\n",
        "\r\n",
        "model.add(Flatten())\r\n",
        "model.add(Dense(units = 200,activation=\"relu\"))\r\n",
        "model.add(Dense(units = 500,activation=\"relu\"))\r\n",
        "model.add(Dropout(0.15))\r\n",
        "\r\n",
        "model.add(Dense(units = 8 ,activation=\"softmax\"))"
      ],
      "execution_count": 55,
      "outputs": []
    },
    {
      "cell_type": "code",
      "metadata": {
        "id": "9FULxZBgNP_a"
      },
      "source": [
        "model.compile(loss=\"categorical_crossentropy\",optimizer=\"adam\",metrics=[\"accuracy\"])"
      ],
      "execution_count": 56,
      "outputs": []
    },
    {
      "cell_type": "markdown",
      "metadata": {
        "id": "EPT81aNpqKlS"
      },
      "source": [
        "# training the model"
      ]
    },
    {
      "cell_type": "code",
      "metadata": {
        "colab": {
          "base_uri": "https://localhost:8080/"
        },
        "id": "2F5KvRyfNU3W",
        "outputId": "4fd61c99-7d45-4cc3-dc98-b5e6117612e3"
      },
      "source": [
        "history = model.fit(X,y_one_hot,batch_size = 32,epochs = 5,verbose=1)"
      ],
      "execution_count": 60,
      "outputs": [
        {
          "output_type": "stream",
          "text": [
            "Epoch 1/5\n",
            "121/121 [==============================] - 59s 486ms/step - loss: 0.0336 - accuracy: 0.9893\n",
            "Epoch 2/5\n",
            "121/121 [==============================] - 59s 485ms/step - loss: 0.0428 - accuracy: 0.9878\n",
            "Epoch 3/5\n",
            "121/121 [==============================] - 59s 489ms/step - loss: 0.1092 - accuracy: 0.9680\n",
            "Epoch 4/5\n",
            "121/121 [==============================] - 59s 487ms/step - loss: 0.0600 - accuracy: 0.9789\n",
            "Epoch 5/5\n",
            "121/121 [==============================] - 59s 488ms/step - loss: 0.0645 - accuracy: 0.9810\n"
          ],
          "name": "stdout"
        }
      ]
    },
    {
      "cell_type": "code",
      "metadata": {
        "colab": {
          "base_uri": "https://localhost:8080/"
        },
        "id": "2HhIhyJRZ4Br",
        "outputId": "95b6f126-4e9d-48ce-f076-b9a0a79859f6"
      },
      "source": [
        "history.history.keys()"
      ],
      "execution_count": 61,
      "outputs": [
        {
          "output_type": "execute_result",
          "data": {
            "text/plain": [
              "dict_keys(['loss', 'accuracy'])"
            ]
          },
          "metadata": {
            "tags": []
          },
          "execution_count": 61
        }
      ]
    },
    {
      "cell_type": "markdown",
      "metadata": {
        "id": "98udy_HRqTvG"
      },
      "source": [
        "# plotting the accuracy and loss"
      ]
    },
    {
      "cell_type": "code",
      "metadata": {
        "colab": {
          "base_uri": "https://localhost:8080/",
          "height": 313
        },
        "id": "EHOtO9a9Z9wD",
        "outputId": "b53bb9a3-fed9-49a6-ad68-979ff00e1181"
      },
      "source": [
        "acc = history.history[\"accuracy\"]\r\n",
        "loss = history.history[\"loss\"]\r\n",
        "epoch = range(len(acc))\r\n",
        "\r\n",
        "plt.plot(epoch,acc)\r\n",
        "plt.plot(epoch,loss)\r\n",
        "plt.xlabel(\"Number of epochs\")\r\n",
        "plt.ylabel(\"Accuracy and Loss\")\r\n",
        "plt.legend()"
      ],
      "execution_count": 65,
      "outputs": [
        {
          "output_type": "stream",
          "text": [
            "No handles with labels found to put in legend.\n"
          ],
          "name": "stderr"
        },
        {
          "output_type": "execute_result",
          "data": {
            "text/plain": [
              "<matplotlib.legend.Legend at 0x7f70922a40f0>"
            ]
          },
          "metadata": {
            "tags": []
          },
          "execution_count": 65
        },
        {
          "output_type": "display_data",
          "data": {
            "image/png": "[encoded data removed]",
            "text/plain": [
              "<Figure size 432x288 with 1 Axes>"
            ]
          },
          "metadata": {
            "tags": [],
            "needs_background": "light"
          }
        }
      ]
    },
    {
      "cell_type": "code",
      "metadata": {
        "colab": {
          "base_uri": "https://localhost:8080/"
        },
        "id": "xISIgDHaa8x_",
        "outputId": "d0f90533-467b-4d33-935e-9e069b3bcda4"
      },
      "source": [
        "acc"
      ],
      "execution_count": 64,
      "outputs": [
        {
          "output_type": "execute_result",
          "data": {
            "text/plain": [
              "[0.9893257021903992,\n",
              " 0.9877635836601257,\n",
              " 0.9679771065711975,\n",
              " 0.9789117574691772,\n",
              " 0.9809945225715637]"
            ]
          },
          "metadata": {
            "tags": []
          },
          "execution_count": 64
        }
      ]
    },
    {
      "cell_type": "code",
      "metadata": {
        "colab": {
          "base_uri": "https://localhost:8080/"
        },
        "id": "559RpEfMa9af",
        "outputId": "d31cb76d-4d1f-4072-f360-42df745f26ff"
      },
      "source": [
        "loss"
      ],
      "execution_count": 66,
      "outputs": [
        {
          "output_type": "execute_result",
          "data": {
            "text/plain": [
              "[0.03363124653697014,\n",
              " 0.04278057441115379,\n",
              " 0.10921942442655563,\n",
              " 0.06004120036959648,\n",
              " 0.06450390070676804]"
            ]
          },
          "metadata": {
            "tags": []
          },
          "execution_count": 66
        }
      ]
    },
    {
      "cell_type": "markdown",
      "metadata": {
        "id": "6RJPnltCndnu"
      },
      "source": [
        "# Testing the model"
      ]
    },
    {
      "cell_type": "markdown",
      "metadata": {
        "id": "Yso_kkG4qbKj"
      },
      "source": [
        "# loading the test data"
      ]
    },
    {
      "cell_type": "code",
      "metadata": {
        "id": "4dbdEohye3ur"
      },
      "source": [
        "pickle_in = open(\"/content/X_test.pickle\",\"rb\")\r\n",
        "X_test = pickle.load(pickle_in)\r\n"
      ],
      "execution_count": 69,
      "outputs": []
    },
    {
      "cell_type": "code",
      "metadata": {
        "id": "Bmk8h7fpgFsv"
      },
      "source": [
        "X_test = np.array(X_test).reshape(-1,64,64,3)"
      ],
      "execution_count": 78,
      "outputs": []
    },
    {
      "cell_type": "code",
      "metadata": {
        "id": "UiXgMJ6WgTyJ"
      },
      "source": [
        "X_test = X_test/255.0"
      ],
      "execution_count": 79,
      "outputs": []
    },
    {
      "cell_type": "code",
      "metadata": {
        "colab": {
          "base_uri": "https://localhost:8080/"
        },
        "id": "yOwmvLcXk0Cx",
        "outputId": "c5f25653-8f72-4241-cad3-84a806975c40"
      },
      "source": [
        "X_test.shape"
      ],
      "execution_count": 86,
      "outputs": [
        {
          "output_type": "execute_result",
          "data": {
            "text/plain": [
              "(159, 64, 64, 3)"
            ]
          },
          "metadata": {
            "tags": []
          },
          "execution_count": 86
        }
      ]
    },
    {
      "cell_type": "markdown",
      "metadata": {
        "id": "t3piBcGPqifi"
      },
      "source": [
        "# giving the test data as input to the model to predict the values"
      ]
    },
    {
      "cell_type": "code",
      "metadata": {
        "colab": {
          "base_uri": "https://localhost:8080/"
        },
        "id": "r7CIkdW8jwN5",
        "outputId": "b1028edb-b965-4525-995f-39e0186cf94f"
      },
      "source": [
        "predict = model.predict_classes(X_test,batch_size=32,verbose=1)"
      ],
      "execution_count": 87,
      "outputs": [
        {
          "output_type": "stream",
          "text": [
            "/usr/local/lib/python3.6/dist-packages/tensorflow/python/keras/engine/sequential.py:450: UserWarning: `model.predict_classes()` is deprecated and will be removed after 2021-01-01. Please use instead:* `np.argmax(model.predict(x), axis=-1)`,   if your model does multi-class classification   (e.g. if it uses a `softmax` last-layer activation).* `(model.predict(x) > 0.5).astype(\"int32\")`,   if your model does binary classification   (e.g. if it uses a `sigmoid` last-layer activation).\n",
            "  warnings.warn('`model.predict_classes()` is deprecated and '\n"
          ],
          "name": "stderr"
        },
        {
          "output_type": "stream",
          "text": [
            "5/5 [==============================] - 1s 116ms/step\n"
          ],
          "name": "stdout"
        }
      ]
    },
    {
      "cell_type": "code",
      "metadata": {
        "colab": {
          "base_uri": "https://localhost:8080/"
        },
        "id": "fPp17tZvkkD3",
        "outputId": "1874c9d9-ad89-4656-98df-2e4b8cd5f5d4"
      },
      "source": [
        "len(predict)"
      ],
      "execution_count": 90,
      "outputs": [
        {
          "output_type": "execute_result",
          "data": {
            "text/plain": [
              "159"
            ]
          },
          "metadata": {
            "tags": []
          },
          "execution_count": 90
        }
      ]
    },
    {
      "cell_type": "code",
      "metadata": {
        "colab": {
          "base_uri": "https://localhost:8080/",
          "height": 35
        },
        "id": "-E_qKPRGmT9a",
        "outputId": "a2d71324-350f-47d7-a71c-b65ec73befbd"
      },
      "source": [
        "value = 158\r\n",
        "categories[predict[value]]\r\n",
        "\r\n"
      ],
      "execution_count": 112,
      "outputs": [
        {
          "output_type": "execute_result",
          "data": {
            "application/vnd.google.colaboratory.intrinsic+json": {
              "type": "string"
            },
            "text/plain": [
              "'banana'"
            ]
          },
          "metadata": {
            "tags": []
          },
          "execution_count": 112
        }
      ]
    },
    {
      "cell_type": "code",
      "metadata": {
        "colab": {
          "base_uri": "https://localhost:8080/",
          "height": 285
        },
        "id": "fcEeV5MMmcFH",
        "outputId": "0e8630fa-2f6f-449a-afbf-5d13313ba56d"
      },
      "source": [
        "plt.imshow(X_test[value])"
      ],
      "execution_count": 113,
      "outputs": [
        {
          "output_type": "execute_result",
          "data": {
            "text/plain": [
              "<matplotlib.image.AxesImage at 0x7f709ba1a710>"
            ]
          },
          "metadata": {
            "tags": []
          },
          "execution_count": 113
        },
        {
          "output_type": "display_data",
          "data": {
            "image/png": "[encoded data removed]",
            "text/plain": [
              "<Figure size 432x288 with 1 Axes>"
            ]
          },
          "metadata": {
            "tags": [],
            "needs_background": "light"
          }
        }
      ]
    }
  ]
}